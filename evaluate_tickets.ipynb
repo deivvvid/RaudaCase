{
 "cells": [
  {
   "cell_type": "markdown",
   "id": "055d0b20",
   "metadata": {},
   "source": [
    "# Cell 1: Imports"
   ]
  },
  {
   "cell_type": "code",
   "execution_count": 13,
   "id": "9b59e36e",
   "metadata": {},
   "outputs": [],
   "source": [
    "import pandas as pd\n",
    "from evaluation.io_utils import read_tickets_csv, save_evaluated_tickets\n",
    "from evaluation.llm_utils import evaluate_reply\n",
    "from tqdm import tqdm"
   ]
  },
  {
   "cell_type": "markdown",
   "id": "eb7b58bd",
   "metadata": {},
   "source": [
    "# Cell 2: Read the original CSV"
   ]
  },
  {
   "cell_type": "code",
   "execution_count": null,
   "id": "acddbf9a",
   "metadata": {},
   "outputs": [],
   "source": [
    "input_path = \"tickets.csv\"\n",
    "df = read_tickets_csv(input_path)"
   ]
  },
  {
   "cell_type": "markdown",
   "id": "4a1ade75",
   "metadata": {},
   "source": [
    "# Cell 3: Evaluate every ticket"
   ]
  },
  {
   "cell_type": "code",
   "execution_count": null,
   "id": "f38dd8b1",
   "metadata": {},
   "outputs": [
    {
     "name": "stderr",
     "output_type": "stream",
     "text": [
      " 48%|████▊     | 48/100 [02:47<02:55,  3.37s/it]"
     ]
    }
   ],
   "source": [
    "results = []\n",
    "\n",
    "for _, row in tqdm(df.iterrows(), total=len(df)):\n",
    "    evaluation = evaluate_reply(row[\"ticket\"], row[\"reply\"])\n",
    "    results.append(evaluation)"
   ]
  },
  {
   "cell_type": "markdown",
   "id": "a3de3c1b",
   "metadata": {},
   "source": [
    "# Cell 4: Combine the results with the original Data Frame"
   ]
  },
  {
   "cell_type": "code",
   "execution_count": null,
   "id": "3a594e3b",
   "metadata": {},
   "outputs": [],
   "source": [
    "results_df = pd.DataFrame(results)\n",
    "df_final = pd.concat([df, results_df], axis=1)"
   ]
  },
  {
   "cell_type": "markdown",
   "id": "29fcfef2",
   "metadata": {},
   "source": [
    "# Cell 5: Save the results in a file"
   ]
  },
  {
   "cell_type": "code",
   "execution_count": null,
   "id": "de96bc70",
   "metadata": {},
   "outputs": [
    {
     "name": "stdout",
     "output_type": "stream",
     "text": [
      "[i] Results saved to tickets_evaluated.csv\n"
     ]
    }
   ],
   "source": [
    "output_path = \"tickets_evaluated.csv\"\n",
    "save_evaluated_tickets(df_final, output_path)"
   ]
  },
  {
   "cell_type": "markdown",
   "id": "5bdb1dd4",
   "metadata": {},
   "source": [
    "# Cell 6: Print the results"
   ]
  },
  {
   "cell_type": "code",
   "execution_count": null,
   "id": "c856db1c",
   "metadata": {},
   "outputs": [
    {
     "data": {
      "text/html": [
       "<div>\n",
       "<style scoped>\n",
       "    .dataframe tbody tr th:only-of-type {\n",
       "        vertical-align: middle;\n",
       "    }\n",
       "\n",
       "    .dataframe tbody tr th {\n",
       "        vertical-align: top;\n",
       "    }\n",
       "\n",
       "    .dataframe thead th {\n",
       "        text-align: right;\n",
       "    }\n",
       "</style>\n",
       "<table border=\"1\" class=\"dataframe\">\n",
       "  <thead>\n",
       "    <tr style=\"text-align: right;\">\n",
       "      <th></th>\n",
       "      <th>ticket</th>\n",
       "      <th>reply</th>\n",
       "      <th>content_score</th>\n",
       "      <th>content_explanation</th>\n",
       "      <th>format_score</th>\n",
       "      <th>format_explanation</th>\n",
       "    </tr>\n",
       "  </thead>\n",
       "  <tbody>\n",
       "    <tr>\n",
       "      <th>0</th>\n",
       "      <td>Hi, I'd like to check the shipping status of m...</td>\n",
       "      <td>Sure, you can check your shipping status on ou...</td>\n",
       "      <td>5</td>\n",
       "      <td>The reply is relevant as it addresses the cust...</td>\n",
       "      <td>5</td>\n",
       "      <td>The reply is clear and well-structured with a ...</td>\n",
       "    </tr>\n",
       "    <tr>\n",
       "      <th>1</th>\n",
       "      <td>The product I received is defective. I'd like ...</td>\n",
       "      <td>We're sorry to hear that. Could you please pro...</td>\n",
       "      <td>4</td>\n",
       "      <td>The reply is relevant as it acknowledges the c...</td>\n",
       "      <td>5</td>\n",
       "      <td>The reply is clear and well-structured, with a...</td>\n",
       "    </tr>\n",
       "    <tr>\n",
       "      <th>2</th>\n",
       "      <td>I have a question about how to set up my new d...</td>\n",
       "      <td>Hello, thanks for contacting us. Please go to ...</td>\n",
       "      <td>4</td>\n",
       "      <td>The reply provides a specific and relevant sol...</td>\n",
       "      <td>5</td>\n",
       "      <td>The response is clear, well-structured, and gr...</td>\n",
       "    </tr>\n",
       "    <tr>\n",
       "      <th>3</th>\n",
       "      <td>Hello, my account was charged twice. Could you...</td>\n",
       "      <td>We've identified the issue and have requested ...</td>\n",
       "      <td>5</td>\n",
       "      <td>The reply is relevant as it addresses the cust...</td>\n",
       "      <td>5</td>\n",
       "      <td>The reply is clear and well-structured, provid...</td>\n",
       "    </tr>\n",
       "    <tr>\n",
       "      <th>4</th>\n",
       "      <td>I can't log into my account. It says 'invalid ...</td>\n",
       "      <td>Please reset your password using the 'Forgot P...</td>\n",
       "      <td>4</td>\n",
       "      <td>The reply is relevant as it suggests a solutio...</td>\n",
       "      <td>5</td>\n",
       "      <td>The reply is clear and well-structured, provid...</td>\n",
       "    </tr>\n",
       "  </tbody>\n",
       "</table>\n",
       "</div>"
      ],
      "text/plain": [
       "                                              ticket  \\\n",
       "0  Hi, I'd like to check the shipping status of m...   \n",
       "1  The product I received is defective. I'd like ...   \n",
       "2  I have a question about how to set up my new d...   \n",
       "3  Hello, my account was charged twice. Could you...   \n",
       "4  I can't log into my account. It says 'invalid ...   \n",
       "\n",
       "                                               reply  content_score  \\\n",
       "0  Sure, you can check your shipping status on ou...              5   \n",
       "1  We're sorry to hear that. Could you please pro...              4   \n",
       "2  Hello, thanks for contacting us. Please go to ...              4   \n",
       "3  We've identified the issue and have requested ...              5   \n",
       "4  Please reset your password using the 'Forgot P...              4   \n",
       "\n",
       "                                 content_explanation  format_score  \\\n",
       "0  The reply is relevant as it addresses the cust...             5   \n",
       "1  The reply is relevant as it acknowledges the c...             5   \n",
       "2  The reply provides a specific and relevant sol...             5   \n",
       "3  The reply is relevant as it addresses the cust...             5   \n",
       "4  The reply is relevant as it suggests a solutio...             5   \n",
       "\n",
       "                                  format_explanation  \n",
       "0  The reply is clear and well-structured with a ...  \n",
       "1  The reply is clear and well-structured, with a...  \n",
       "2  The response is clear, well-structured, and gr...  \n",
       "3  The reply is clear and well-structured, provid...  \n",
       "4  The reply is clear and well-structured, provid...  "
      ]
     },
     "execution_count": 12,
     "metadata": {},
     "output_type": "execute_result"
    }
   ],
   "source": [
    "df_final.head()"
   ]
  }
 ],
 "metadata": {
  "kernelspec": {
   "display_name": "Python 3",
   "language": "python",
   "name": "python3"
  },
  "language_info": {
   "codemirror_mode": {
    "name": "ipython",
    "version": 3
   },
   "file_extension": ".py",
   "mimetype": "text/x-python",
   "name": "python",
   "nbconvert_exporter": "python",
   "pygments_lexer": "ipython3",
   "version": "3.10.0"
  }
 },
 "nbformat": 4,
 "nbformat_minor": 5
}
