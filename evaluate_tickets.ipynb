{
 "cells": [
  {
   "cell_type": "markdown",
   "id": "055d0b20",
   "metadata": {},
   "source": [
    "# Cell 1: Imports"
   ]
  },
  {
   "cell_type": "code",
   "execution_count": 7,
   "id": "9b59e36e",
   "metadata": {},
   "outputs": [],
   "source": [
    "import pandas as pd\n",
    "from evaluation.io_utils import read_tickets_csv, save_evaluated_tickets\n",
    "from evaluation.llm_utils import evaluate_reply\n",
    "from tqdm import tqdm"
   ]
  },
  {
   "cell_type": "markdown",
   "id": "eb7b58bd",
   "metadata": {},
   "source": [
    "# Cell 2: Leer el CSV original"
   ]
  },
  {
   "cell_type": "code",
   "execution_count": 8,
   "id": "acddbf9a",
   "metadata": {},
   "outputs": [],
   "source": [
    "input_path = \"tickets.csv\"\n",
    "df = read_tickets_csv(input_path)"
   ]
  },
  {
   "cell_type": "markdown",
   "id": "4a1ade75",
   "metadata": {},
   "source": [
    "# Cell 3: Evaluar cada ticket"
   ]
  },
  {
   "cell_type": "code",
   "execution_count": null,
   "id": "f38dd8b1",
   "metadata": {},
   "outputs": [
    {
     "name": "stderr",
     "output_type": "stream",
     "text": [
      " 20%|██        | 1/5 [00:04<00:18,  4.53s/it]"
     ]
    },
    {
     "name": "stdout",
     "output_type": "stream",
     "text": [
      "{'content_score': 5, 'content_explanation': \"The reply is relevant as it addresses the customer's inquiry about the shipping status of their order. It is accurate because it provides the correct information about the delivery date. The response is complete as it gives a specific date for delivery.\", 'format_score': 5, 'format_explanation': 'The reply is clear and well-structured with a simple and direct response format. It is grammatically correct without any errors.'}\n"
     ]
    },
    {
     "name": "stderr",
     "output_type": "stream",
     "text": [
      " 40%|████      | 2/5 [00:08<00:11,  3.95s/it]"
     ]
    },
    {
     "name": "stdout",
     "output_type": "stream",
     "text": [
      "{'content_score': 4, 'content_explanation': \"The reply is relevant as it acknowledges the customer's issue and offers a solution. It is accurate in that the suggested action (providing a photo of the defect) is necessary for the return process. The response is not complete as it does not provide information about the next steps after receiving the photo, but it is sufficient for this initial interaction.\", 'format_score': 5, 'format_explanation': 'The reply is clear and well-structured, with a polite tone. The grammar and syntax are correct.'}\n"
     ]
    },
    {
     "name": "stderr",
     "output_type": "stream",
     "text": [
      " 60%|██████    | 3/5 [00:11<00:07,  3.52s/it]"
     ]
    },
    {
     "name": "stdout",
     "output_type": "stream",
     "text": [
      "{'content_score': 4, 'content_explanation': \"The reply provides a specific and relevant solution to the customer's problem, making it accurate and mostly complete.\", 'format_score': 5, 'format_explanation': 'The response is clear, well-structured, and grammatically correct. The instructions are easy to follow.'}\n"
     ]
    },
    {
     "name": "stderr",
     "output_type": "stream",
     "text": [
      " 80%|████████  | 4/5 [00:14<00:03,  3.50s/it]"
     ]
    },
    {
     "name": "stdout",
     "output_type": "stream",
     "text": [
      "{'content_score': 5, 'content_explanation': \"The reply is relevant as it addresses the customer's issue of double charging. It is accurate since it mentions a refund for the second charge and provides an estimated timeframe. The response is complete as it explains the steps taken to resolve the issue and the expected outcome.\", 'format_score': 5, 'format_explanation': \"The reply is clear and well-structured, providing a straightforward solution to the customer's problem. It is grammatically correct with no errors.\"}\n"
     ]
    },
    {
     "name": "stderr",
     "output_type": "stream",
     "text": [
      "100%|██████████| 5/5 [00:18<00:00,  3.63s/it]"
     ]
    },
    {
     "name": "stdout",
     "output_type": "stream",
     "text": [
      "{'content_score': 4, 'content_explanation': \"The reply is relevant as it suggests a solution for the issue of being unable to log into an account due to an invalid password. It's accurate because resetting the password can indeed solve this problem. However, it could be more complete by providing additional steps or troubleshooting tips if the user still encounters issues after resetting the password.\", 'format_score': 5, 'format_explanation': \"The reply is clear and well-structured, providing a simple step-by-step solution. It's also grammatically correct.\"}\n"
     ]
    },
    {
     "name": "stderr",
     "output_type": "stream",
     "text": [
      "\n"
     ]
    }
   ],
   "source": [
    "results = []\n",
    "\n",
    "for _, row in tqdm(df.iterrows(), total=len(df)):\n",
    "    evaluation = evaluate_reply(row[\"ticket\"], row[\"reply\"])\n",
    "    results.append(evaluation)"
   ]
  },
  {
   "cell_type": "markdown",
   "id": "a3de3c1b",
   "metadata": {},
   "source": [
    "# Cell 4: Combinar resultados con el DataFrame original"
   ]
  },
  {
   "cell_type": "code",
   "execution_count": 10,
   "id": "3a594e3b",
   "metadata": {},
   "outputs": [],
   "source": [
    "results_df = pd.DataFrame(results)\n",
    "df_final = pd.concat([df, results_df], axis=1)"
   ]
  },
  {
   "cell_type": "markdown",
   "id": "29fcfef2",
   "metadata": {},
   "source": [
    "# Cell 5: Guardar resultados"
   ]
  },
  {
   "cell_type": "code",
   "execution_count": 11,
   "id": "de96bc70",
   "metadata": {},
   "outputs": [
    {
     "name": "stdout",
     "output_type": "stream",
     "text": [
      "[i] Results saved to tickets_evaluated.csv\n"
     ]
    }
   ],
   "source": [
    "output_path = \"tickets_evaluated.csv\"\n",
    "save_evaluated_tickets(df_final, output_path)"
   ]
  },
  {
   "cell_type": "markdown",
   "id": "5bdb1dd4",
   "metadata": {},
   "source": [
    "# Cell 6: Mostrar muestra"
   ]
  },
  {
   "cell_type": "code",
   "execution_count": 12,
   "id": "c856db1c",
   "metadata": {},
   "outputs": [
    {
     "data": {
      "text/html": [
       "<div>\n",
       "<style scoped>\n",
       "    .dataframe tbody tr th:only-of-type {\n",
       "        vertical-align: middle;\n",
       "    }\n",
       "\n",
       "    .dataframe tbody tr th {\n",
       "        vertical-align: top;\n",
       "    }\n",
       "\n",
       "    .dataframe thead th {\n",
       "        text-align: right;\n",
       "    }\n",
       "</style>\n",
       "<table border=\"1\" class=\"dataframe\">\n",
       "  <thead>\n",
       "    <tr style=\"text-align: right;\">\n",
       "      <th></th>\n",
       "      <th>ticket</th>\n",
       "      <th>reply</th>\n",
       "      <th>content_score</th>\n",
       "      <th>content_explanation</th>\n",
       "      <th>format_score</th>\n",
       "      <th>format_explanation</th>\n",
       "    </tr>\n",
       "  </thead>\n",
       "  <tbody>\n",
       "    <tr>\n",
       "      <th>0</th>\n",
       "      <td>Hi, I'd like to check the shipping status of m...</td>\n",
       "      <td>Sure, you can check your shipping status on ou...</td>\n",
       "      <td>5</td>\n",
       "      <td>The reply is relevant as it addresses the cust...</td>\n",
       "      <td>5</td>\n",
       "      <td>The reply is clear and well-structured with a ...</td>\n",
       "    </tr>\n",
       "    <tr>\n",
       "      <th>1</th>\n",
       "      <td>The product I received is defective. I'd like ...</td>\n",
       "      <td>We're sorry to hear that. Could you please pro...</td>\n",
       "      <td>4</td>\n",
       "      <td>The reply is relevant as it acknowledges the c...</td>\n",
       "      <td>5</td>\n",
       "      <td>The reply is clear and well-structured, with a...</td>\n",
       "    </tr>\n",
       "    <tr>\n",
       "      <th>2</th>\n",
       "      <td>I have a question about how to set up my new d...</td>\n",
       "      <td>Hello, thanks for contacting us. Please go to ...</td>\n",
       "      <td>4</td>\n",
       "      <td>The reply provides a specific and relevant sol...</td>\n",
       "      <td>5</td>\n",
       "      <td>The response is clear, well-structured, and gr...</td>\n",
       "    </tr>\n",
       "    <tr>\n",
       "      <th>3</th>\n",
       "      <td>Hello, my account was charged twice. Could you...</td>\n",
       "      <td>We've identified the issue and have requested ...</td>\n",
       "      <td>5</td>\n",
       "      <td>The reply is relevant as it addresses the cust...</td>\n",
       "      <td>5</td>\n",
       "      <td>The reply is clear and well-structured, provid...</td>\n",
       "    </tr>\n",
       "    <tr>\n",
       "      <th>4</th>\n",
       "      <td>I can't log into my account. It says 'invalid ...</td>\n",
       "      <td>Please reset your password using the 'Forgot P...</td>\n",
       "      <td>4</td>\n",
       "      <td>The reply is relevant as it suggests a solutio...</td>\n",
       "      <td>5</td>\n",
       "      <td>The reply is clear and well-structured, provid...</td>\n",
       "    </tr>\n",
       "  </tbody>\n",
       "</table>\n",
       "</div>"
      ],
      "text/plain": [
       "                                              ticket  \\\n",
       "0  Hi, I'd like to check the shipping status of m...   \n",
       "1  The product I received is defective. I'd like ...   \n",
       "2  I have a question about how to set up my new d...   \n",
       "3  Hello, my account was charged twice. Could you...   \n",
       "4  I can't log into my account. It says 'invalid ...   \n",
       "\n",
       "                                               reply  content_score  \\\n",
       "0  Sure, you can check your shipping status on ou...              5   \n",
       "1  We're sorry to hear that. Could you please pro...              4   \n",
       "2  Hello, thanks for contacting us. Please go to ...              4   \n",
       "3  We've identified the issue and have requested ...              5   \n",
       "4  Please reset your password using the 'Forgot P...              4   \n",
       "\n",
       "                                 content_explanation  format_score  \\\n",
       "0  The reply is relevant as it addresses the cust...             5   \n",
       "1  The reply is relevant as it acknowledges the c...             5   \n",
       "2  The reply provides a specific and relevant sol...             5   \n",
       "3  The reply is relevant as it addresses the cust...             5   \n",
       "4  The reply is relevant as it suggests a solutio...             5   \n",
       "\n",
       "                                  format_explanation  \n",
       "0  The reply is clear and well-structured with a ...  \n",
       "1  The reply is clear and well-structured, with a...  \n",
       "2  The response is clear, well-structured, and gr...  \n",
       "3  The reply is clear and well-structured, provid...  \n",
       "4  The reply is clear and well-structured, provid...  "
      ]
     },
     "execution_count": 12,
     "metadata": {},
     "output_type": "execute_result"
    }
   ],
   "source": [
    "df_final.head()"
   ]
  }
 ],
 "metadata": {
  "kernelspec": {
   "display_name": "Python 3",
   "language": "python",
   "name": "python3"
  },
  "language_info": {
   "codemirror_mode": {
    "name": "ipython",
    "version": 3
   },
   "file_extension": ".py",
   "mimetype": "text/x-python",
   "name": "python",
   "nbconvert_exporter": "python",
   "pygments_lexer": "ipython3",
   "version": "3.10.0"
  }
 },
 "nbformat": 4,
 "nbformat_minor": 5
}
